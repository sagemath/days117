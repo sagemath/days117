{
 "cells": [
  {
   "cell_type": "markdown",
   "id": "4cc0fc5e",
   "metadata": {},
   "source": [
    "# Memory profiling"
   ]
  },
  {
   "cell_type": "markdown",
   "id": "09dc1f82",
   "metadata": {},
   "source": [
    "`get_memory_usage` was disabled since Sage9.something.\n",
    "\n",
    "How can I know how much memory my code use?\n",
    "\n",
    "There are two ways, both are a bit imprecise but give a raw idea."
   ]
  },
  {
   "cell_type": "markdown",
   "id": "790ac7ea",
   "metadata": {},
   "source": [
    "## Memory profiling in Shell"
   ]
  },
  {
   "cell_type": "markdown",
   "id": "f04ff9ba",
   "metadata": {},
   "source": [
    "We follow this tutorial: https://pypi.org/project/memory-profiler/\n",
    "\n",
    "First, install the module:\n",
    "\n",
    "`sage -pip install memory_profiler`"
   ]
  },
  {
   "cell_type": "markdown",
   "id": "39026f82",
   "metadata": {},
   "source": [
    "Now, either create a new file `example.py` with the following code:"
   ]
  },
  {
   "cell_type": "code",
   "execution_count": null,
   "id": "4413dbfc",
   "metadata": {},
   "outputs": [],
   "source": [
    "from memory_profiler import profile\n",
    "\n",
    "@profile\n",
    "def my_func():\n",
    "    a = [1] * (10 ** 6)\n",
    "    b = [2] * (2 * 10 ** 7)\n",
    "    del b\n",
    "    return a\n",
    "    \n",
    "my_func()"
   ]
  },
  {
   "cell_type": "markdown",
   "id": "a2274291",
   "metadata": {},
   "source": [
    "Run `python example.py` in your Shell and you'll see a line by line analysis of your code.\n",
    "\n",
    "Be carefull, if you use Sage functions, you'll need to import them, as you run python here."
   ]
  },
  {
   "cell_type": "markdown",
   "id": "2de1080a",
   "metadata": {},
   "source": [
    "## Memory profiling in Jupyter Notebook"
   ]
  },
  {
   "cell_type": "markdown",
   "id": "041357a9",
   "metadata": {},
   "source": [
    "We follow this tutorial: https://github.com/ianozsvald/ipython_memory_usage\n",
    "\n",
    "First, install both modules: \n",
    "\n",
    "`sage -pip install memory_profiler`\n",
    "\n",
    "`sage -pip install ipython_memory_profiler`"
   ]
  },
  {
   "cell_type": "markdown",
   "id": "fef18283",
   "metadata": {},
   "source": [
    "Now, we just import the module"
   ]
  },
  {
   "cell_type": "code",
   "execution_count": 1,
   "id": "d6886121",
   "metadata": {},
   "outputs": [],
   "source": [
    "import ipython_memory_usage"
   ]
  },
  {
   "cell_type": "markdown",
   "id": "8c2b831b",
   "metadata": {},
   "source": [
    "And the \"magic\" commande will track the memory usage of all your cells."
   ]
  },
  {
   "cell_type": "code",
   "execution_count": 2,
   "id": "a648b498",
   "metadata": {},
   "outputs": [
    {
     "data": {
      "text/plain": [
       "'memory profile enabled'"
      ]
     },
     "execution_count": 2,
     "metadata": {},
     "output_type": "execute_result"
    },
    {
     "name": "stdout",
     "output_type": "stream",
     "text": [
      "In [2] used 0.1328 MiB RAM in 2.97s, peaked 0.00 MiB above current, total RAM usage 169.54 MiB\n"
     ]
    }
   ],
   "source": [
    "%ipython_memory_usage_start"
   ]
  },
  {
   "cell_type": "code",
   "execution_count": 7,
   "id": "2092ac3c",
   "metadata": {},
   "outputs": [
    {
     "name": "stdout",
     "output_type": "stream",
     "text": [
      "In [7] used 0.0312 MiB RAM in 0.29s, peaked 7.64 MiB above current, total RAM usage 177.46 MiB\n"
     ]
    }
   ],
   "source": [
    "def my_func():\n",
    "    a = [1] * (10 ** 6)\n",
    "    b = [2] * (2 * 10 ** 7)\n",
    "    del b\n",
    "    return a\n",
    "    \n",
    "a = my_func()"
   ]
  },
  {
   "cell_type": "markdown",
   "id": "fb5b615b",
   "metadata": {},
   "source": [
    "RAM and time are pretty accurate, but the peak is usually false.\n",
    "\n",
    "Execute the cell below several time to find a 7 MiB peak (corresponding to `a`) and a 160 MiB peak (corresponding to both `a` and `b`)."
   ]
  },
  {
   "cell_type": "code",
   "execution_count": 8,
   "id": "b34c26e1",
   "metadata": {
    "scrolled": false
   },
   "outputs": [
    {
     "name": "stdout",
     "output_type": "stream",
     "text": [
      "In [8] used -7.5977 MiB RAM in 0.27s, peaked 15.27 MiB above current, total RAM usage 169.86 MiB\n"
     ]
    }
   ],
   "source": [
    "def my_func():\n",
    "    a = [1] * (10 ** 6)\n",
    "    b = [2] * (2 * 10 ** 7)\n",
    "    del b\n",
    "    return a\n",
    "    \n",
    "a = my_func()\n",
    "del(a)"
   ]
  },
  {
   "cell_type": "markdown",
   "id": "2924ebb3",
   "metadata": {},
   "source": [
    "You can check that a module is not imported when already there by running twice the following:"
   ]
  },
  {
   "cell_type": "code",
   "execution_count": 9,
   "id": "97d3e40f",
   "metadata": {},
   "outputs": [
    {
     "name": "stdout",
     "output_type": "stream",
     "text": [
      "In [9] used 6.6289 MiB RAM in 0.23s, peaked 0.00 MiB above current, total RAM usage 176.49 MiB\n"
     ]
    }
   ],
   "source": [
    "import numpy"
   ]
  },
  {
   "cell_type": "markdown",
   "id": "b33cac11",
   "metadata": {},
   "source": [
    "To disable the memory profiler:"
   ]
  },
  {
   "cell_type": "code",
   "execution_count": 10,
   "id": "9a0b65ec",
   "metadata": {},
   "outputs": [
    {
     "data": {
      "text/plain": [
       "'memory profile disabled'"
      ]
     },
     "execution_count": 10,
     "metadata": {},
     "output_type": "execute_result"
    }
   ],
   "source": [
    "%ipython_memory_usage_stop"
   ]
  },
  {
   "cell_type": "markdown",
   "id": "8d118bdf",
   "metadata": {},
   "source": [
    "To modify the text printed (especially if you want more digits on the output), you can find the path to the code here:"
   ]
  },
  {
   "cell_type": "code",
   "execution_count": null,
   "id": "e6013797",
   "metadata": {},
   "outputs": [],
   "source": [
    "ipython_memory_usage.imu??"
   ]
  },
  {
   "cell_type": "markdown",
   "id": "5fd24010",
   "metadata": {},
   "source": [
    "# On timing your computations\n",
    "\n",
    "Consider following Julian Rüth tutorial on profiling!\n",
    "\n",
    "\n",
    "Here is a very short anwser:\n",
    "\n",
    "In a cell, you call begin by `%%time` to measure how long the cell took to execute.\n",
    "Using `%%timeit` at the beginning of a cell will give a more accurate result (it will run your cell several times and make stats on it).\n",
    "\n",
    "When I want to run a code during a night, I personnaly print the current time at meaningfull instants of my code, like this:"
   ]
  },
  {
   "cell_type": "code",
   "execution_count": 12,
   "id": "41e64647",
   "metadata": {},
   "outputs": [
    {
     "name": "stdout",
     "output_type": "stream",
     "text": [
      "Sun Feb 12 00:23:54 2023\n",
      "\n",
      "Sun Feb 12 00:23:54 2023\n",
      "\n",
      "Sun Feb 12 00:23:54 2023\n",
      "\n",
      "Sun Feb 12 00:23:54 2023\n",
      "\n",
      "Sun Feb 12 00:23:54 2023\n",
      "\n",
      "Sun Feb 12 00:23:54 2023\n",
      "\n",
      "Sun Feb 12 00:23:54 2023\n",
      "\n",
      "Sun Feb 12 00:23:54 2023\n",
      "\n",
      "Sun Feb 12 00:23:54 2023\n",
      "\n",
      "Sun Feb 12 00:23:54 2023\n",
      "\n",
      "Sun Feb 12 00:23:54 2023\n"
     ]
    }
   ],
   "source": [
    "from time import ctime, time\n",
    "\n",
    "for k in range(10):\n",
    "    print(ctime(time()))\n",
    "    \"Do something hard that depend on the value of k!\"\n",
    "    \"Don't forget to print the result...\"\n",
    "    print()\n",
    "print(ctime(time()))"
   ]
  }
 ],
 "metadata": {
  "kernelspec": {
   "display_name": "SageMath 9.1",
   "language": "sage",
   "name": "sagemath"
  },
  "language_info": {
   "codemirror_mode": {
    "name": "ipython",
    "version": 3
   },
   "file_extension": ".py",
   "mimetype": "text/x-python",
   "name": "python",
   "nbconvert_exporter": "python",
   "pygments_lexer": "ipython3",
   "version": "3.7.3"
  }
 },
 "nbformat": 4,
 "nbformat_minor": 5
}
